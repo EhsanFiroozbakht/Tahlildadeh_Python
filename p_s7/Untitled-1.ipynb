{
 "cells": [
  {
   "cell_type": "code",
   "execution_count": null,
   "metadata": {},
   "outputs": [
    {
     "name": "stdout",
     "output_type": "stream",
     "text": [
      "شما 8773 روز از زندگی خود را سپری کرده‌اید.\n"
     ]
    }
   ],
   "source": [
    "# 1)\n",
    "\n",
    "from datetime import datetime\n",
    "\n",
    "birth_date = input(\"تاریخ تولد خود را وارد کنید (YYYY-MM-DD): \")\n",
    "birth_year, birth_month, birth_day = map(int, birth_date.split('-'))\n",
    "current_date = datetime.now()\n",
    "\n",
    "age_years = current_date.year - birth_year\n",
    "age_months = current_date.month - birth_month\n",
    "age_days = current_date.day - birth_day\n",
    "\n",
    "if age_days < 0:\n",
    "    age_months -= 1\n",
    "    age_days += 30  \n",
    "\n",
    "if age_months < 0:\n",
    "    age_years -= 1\n",
    "    age_months += 12\n",
    "\n",
    "total_days = (age_years * 360) + (age_months * 30) + age_days\n",
    "\n",
    "print(\"شما\", total_days, \"روز از زندگی خود را سپری کرده‌اید.\")\n"
   ]
  },
  {
   "cell_type": "code",
   "execution_count": null,
   "metadata": {},
   "outputs": [
    {
     "name": "stdout",
     "output_type": "stream",
     "text": [
      "لیست اعداد فرد: [1, 3, 5, 7, 9, 11, 13, 15, 17, 19, 21, 23, 25, 27, 29, 31, 33, 35, 37, 39, 41, 43, 45, 47, 49]\n",
      "لیست نهایی: [1, 3, 5, 7, 9, 11, 13, 15, 17, 19, 21, 23, 25, 27, 29, 31, 33, 35, 37, 39, 41, 43, 45, 47, 49, 0, 6, 10, 12, 18, 20, 24, 30, 36, 40, 42, 48, 50]\n"
     ]
    }
   ],
   "source": [
    "# 2)\n",
    "\n",
    "odd_numbers = []\n",
    "for i in range(51):\n",
    "    if i % 2 != 0:\n",
    "        odd_numbers.append(i)\n",
    "print(\"لیست اعداد فرد:\", odd_numbers)\n",
    "\n",
    "for i in range(51):\n",
    "    if (i % 3 == 0 or i % 5 == 0) and i not in odd_numbers:\n",
    "        odd_numbers.append(i)\n",
    "        \n",
    "print(\"لیست نهایی:\", odd_numbers)\n"
   ]
  },
  {
   "cell_type": "code",
   "execution_count": null,
   "metadata": {},
   "outputs": [
    {
     "name": "stdout",
     "output_type": "stream",
     "text": [
      "['hello', 'hello', 'hello', 'hallo', 'hello', 'mello', 'yello', 'hallo', 'hello', 'hallo', 'hello', 'mello', 'mello', 'hallo', 'hello', 'mello', 'hello', 'yello', 'hallo', 'mello', 'mello', 'mello', 'yello', 'yello', 'mello', 'yello', 'mello', 'yello', 'hello', 'yello', 'hello', 'mello', 'hallo', 'mello', 'mello', 'hallo', 'hello', 'mello', 'hello', 'hello', 'hello', 'hallo', 'yello', 'yello', 'hallo', 'hallo', 'hello', 'yello', 'hallo', 'mello', 'mello', 'yello', 'mello', 'hallo', 'hello', 'hallo', 'mello', 'hallo', 'mello', 'mello', 'hello', 'mello', 'mello', 'mello', 'hallo', 'yello', 'hallo', 'mello', 'hello', 'yello', 'mello', 'yello', 'hello', 'mello', 'yello', 'mello', 'hello', 'yello', 'yello', 'yello', 'hallo', 'yello', 'yello', 'yello', 'hello', 'yello', 'mello', 'hello', 'hello', 'hallo', 'mello', 'yello', 'hallo', 'mello', 'hello', 'yello', 'yello', 'hello', 'hello', 'yello']\n"
     ]
    }
   ],
   "source": [
    "# 3)\n",
    "\n",
    "import random\n",
    "choices = [\"hello\", \"yello\", \"mello\", \"hallo\"]\n",
    "random_list = []\n",
    "\n",
    "for _ in range(100):\n",
    "    random_list.append(random.choice(choices))\n",
    "    \n",
    "print(random_list)\n"
   ]
  },
  {
   "cell_type": "code",
   "execution_count": null,
   "metadata": {},
   "outputs": [
    {
     "name": "stdout",
     "output_type": "stream",
     "text": [
      "['hello', 'hello', 'hello', 'hello', 'hello', 'hello', 'hello', 'hello', 'hello', 'hello', 'hello', 'hello', 'hello', 'hello', 'hello', 'hello', 'hello', 'hello', 'hello', 'hello', 'hello', 'hello', 'hello', 'hello', 'hello', 'hello', 'hello', 'hello']\n"
     ]
    }
   ],
   "source": [
    "# 4)\n",
    "\n",
    "import random\n",
    "choices = [\"hello\", \"yello\", \"mello\", \"hallo\"]\n",
    "random_list = []\n",
    "\n",
    "for _ in range(100):\n",
    "    random_list.append(random.choice(choices))\n",
    "\n",
    "corrected_list = []\n",
    "for item in random_list:\n",
    "    if item == \"hello\":\n",
    "        corrected_list.append(item)\n",
    "\n",
    "print(corrected_list)\n"
   ]
  },
  {
   "cell_type": "code",
   "execution_count": null,
   "metadata": {},
   "outputs": [
    {
     "name": "stdout",
     "output_type": "stream",
     "text": [
      "{'milk': 5, 'sugar': 2, 'butter': 10, 'yogurt': 1, 'cheese': 3}\n"
     ]
    }
   ],
   "source": [
    "# 5)\n",
    "list_1 = ['milk', 'sugar', 'butter', 'yogurt', 'cheese']\n",
    "list_2 = [5, 2, 10, 1, 3]\n",
    "\n",
    "shopping_dict = dict(zip(list_1, list_2))\n",
    "print(shopping_dict)\n"
   ]
  },
  {
   "cell_type": "code",
   "execution_count": null,
   "metadata": {},
   "outputs": [
    {
     "name": "stdout",
     "output_type": "stream",
     "text": [
      "Maximum value: 10\n",
      "Minimum value: 1\n"
     ]
    }
   ],
   "source": [
    "# 6)\n",
    "\n",
    "shopping_dict = {\n",
    "    'milk': 5,\n",
    "    'sugar': 2,\n",
    "    'butter': 10,\n",
    "    'yogurt': 1,\n",
    "    'cheese': 3\n",
    "}\n",
    "\n",
    "max_value = max(shopping_dict.values())\n",
    "min_value = min(shopping_dict.values())\n",
    "\n",
    "print(f\"Maximum value: {max_value}\")\n",
    "print(f\"Minimum value: {min_value}\")\n"
   ]
  },
  {
   "cell_type": "code",
   "execution_count": null,
   "metadata": {},
   "outputs": [
    {
     "name": "stdout",
     "output_type": "stream",
     "text": [
      "تعداد تکرار هر کلمه:\n",
      "Python: 2\n",
      "Sentence: 1\n",
      "Examples.: 1\n",
      "Among: 1\n",
      "the: 3\n",
      "non-poisonous: 1\n",
      "serpents: 1\n",
      "python: 1\n",
      "ranks: 1\n",
      "first.: 1\n",
      "Python,: 1\n",
      "always: 1\n",
      "represented: 1\n",
      "in: 1\n",
      "form: 1\n",
      "of: 2\n",
      "a: 2\n",
      "snake,: 1\n",
      "sometimes.: 1\n",
      "is: 1\n",
      "well: 1\n",
      "suited: 1\n",
      "for: 1\n",
      "these: 1\n",
      "types: 1\n",
      "tasks,: 1\n",
      "you: 1\n",
      "can: 1\n",
      "quickly: 1\n",
      "put: 1\n",
      "together: 1\n",
      "useful: 1\n",
      "program: 1\n",
      "with: 1\n",
      "minimal: 1\n",
      "fuss.: 1\n"
     ]
    }
   ],
   "source": [
    "# 7)\n",
    "\n",
    "sentence = input(\"لطفاً یک جمله وارد کنید: \")\n",
    "words = sentence.split()\n",
    "word_count = {}\n",
    "\n",
    "for word in words:\n",
    "    if word in word_count:\n",
    "        word_count[word] += 1\n",
    "    else:\n",
    "        word_count[word] = 1\n",
    "        \n",
    "print(\"تعداد تکرار هر کلمه:\")\n",
    "for word, count in word_count.items():\n",
    "    print(f\"{word}: {count}\")\n"
   ]
  },
  {
   "cell_type": "code",
   "execution_count": 20,
   "metadata": {},
   "outputs": [
    {
     "name": "stdout",
     "output_type": "stream",
     "text": [
      "{'a': 400, 'b': 400, 'c': 300, 'd': 400}\n"
     ]
    }
   ],
   "source": [
    "# 8)\n",
    "\n",
    "d1 = {'a': 100, 'b': 200, 'c': 300}\n",
    "d2 = {'a': 300, 'b': 200, 'd': 400}\n",
    "merged_dict = d1.copy()  \n",
    "\n",
    "for key, value in d2.items():\n",
    "    if key in merged_dict:\n",
    "        merged_dict[key] += value\n",
    "    else:\n",
    "        merged_dict[key] = value\n",
    "        \n",
    "print(merged_dict)\n"
   ]
  }
 ],
 "metadata": {
  "kernelspec": {
   "display_name": "Python 3",
   "language": "python",
   "name": "python3"
  },
  "language_info": {
   "codemirror_mode": {
    "name": "ipython",
    "version": 3
   },
   "file_extension": ".py",
   "mimetype": "text/x-python",
   "name": "python",
   "nbconvert_exporter": "python",
   "pygments_lexer": "ipython3",
   "version": "3.10.0"
  }
 },
 "nbformat": 4,
 "nbformat_minor": 2
}
