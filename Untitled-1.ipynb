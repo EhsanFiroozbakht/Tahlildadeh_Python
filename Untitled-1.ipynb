{
 "cells": [
  {
   "cell_type": "code",
   "execution_count": 2,
   "metadata": {},
   "outputs": [
    {
     "name": "stdout",
     "output_type": "stream",
     "text": [
      "4321\n",
      "-6542\n"
     ]
    }
   ],
   "source": [
    "#1\n",
    "def reverse(number):\n",
    "    if number >= 0:  \n",
    "        return int(str(number)[::-1])\n",
    "    else:  \n",
    "        return -int(str(-number)[::-1])\n",
    "print(reverse(1234))  \n",
    "print(reverse(-2456))\n"
   ]
  },
  {
   "cell_type": "code",
   "execution_count": 4,
   "metadata": {},
   "outputs": [
    {
     "name": "stdout",
     "output_type": "stream",
     "text": [
      "3.8\n"
     ]
    }
   ],
   "source": [
    "#2\n",
    "def avglength(sentence):\n",
    "    for char in \".,!?;:\":\n",
    "        sentence = sentence.replace(char, \"\")\n",
    "    \n",
    "    words = sentence.split()\n",
    "    \n",
    "    if not words:\n",
    "        return 0\n",
    "\n",
    "    total_length = sum(len(word) for word in words)\n",
    "    return total_length / len(words)\n",
    "print(avglength(\"This is a test sentence.\"))                            "
   ]
  },
  {
   "cell_type": "code",
   "execution_count": 5,
   "metadata": {},
   "outputs": [
    {
     "name": "stdout",
     "output_type": "stream",
     "text": [
      "448\n"
     ]
    }
   ],
   "source": [
    "#3\n",
    "def addString(num1, num2):\n",
    "\n",
    "    number1 = int(num1)\n",
    "    number2 = int(num2)\n",
    "    r = number1 + number2\n",
    "    return r\n",
    "\n",
    "print(addString(\"423\", \"25\"))  "
   ]
  },
  {
   "cell_type": "code",
   "execution_count": null,
   "metadata": {},
   "outputs": [],
   "source": []
  }
 ],
 "metadata": {
  "kernelspec": {
   "display_name": "Python 3",
   "language": "python",
   "name": "python3"
  },
  "language_info": {
   "codemirror_mode": {
    "name": "ipython",
    "version": 3
   },
   "file_extension": ".py",
   "mimetype": "text/x-python",
   "name": "python",
   "nbconvert_exporter": "python",
   "pygments_lexer": "ipython3",
   "version": "3.10.0"
  }
 },
 "nbformat": 4,
 "nbformat_minor": 2
}
